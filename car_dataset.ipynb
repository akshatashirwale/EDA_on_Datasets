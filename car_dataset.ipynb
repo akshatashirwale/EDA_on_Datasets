{
 "cells": [
  {
   "cell_type": "markdown",
   "id": "491fd029-5bf0-4b2f-bb46-b71513a69ade",
   "metadata": {},
   "source": [
    "# EDA (exploratrory data analysis) of car dataset"
   ]
  },
  {
   "cell_type": "code",
   "execution_count": 77,
   "id": "4087e494-5006-4a43-be6e-62e3117b94f5",
   "metadata": {},
   "outputs": [],
   "source": [
    "import pandas as pd\n",
    "import numpy as np"
   ]
  },
  {
   "cell_type": "code",
   "execution_count": 79,
   "id": "57e74af4-09c4-482c-ac0e-7d77a27eb3c5",
   "metadata": {},
   "outputs": [
    {
     "data": {
      "text/html": [
       "<div>\n",
       "<style scoped>\n",
       "    .dataframe tbody tr th:only-of-type {\n",
       "        vertical-align: middle;\n",
       "    }\n",
       "\n",
       "    .dataframe tbody tr th {\n",
       "        vertical-align: top;\n",
       "    }\n",
       "\n",
       "    .dataframe thead th {\n",
       "        text-align: right;\n",
       "    }\n",
       "</style>\n",
       "<table border=\"1\" class=\"dataframe\">\n",
       "  <thead>\n",
       "    <tr style=\"text-align: right;\">\n",
       "      <th></th>\n",
       "      <th>Brand</th>\n",
       "      <th>Model</th>\n",
       "      <th>Year</th>\n",
       "      <th>Engine_Size</th>\n",
       "      <th>Fuel_Type</th>\n",
       "      <th>Transmission</th>\n",
       "      <th>Mileage</th>\n",
       "      <th>Doors</th>\n",
       "      <th>Owner_Count</th>\n",
       "      <th>Price</th>\n",
       "    </tr>\n",
       "  </thead>\n",
       "  <tbody>\n",
       "    <tr>\n",
       "      <th>0</th>\n",
       "      <td>Kia</td>\n",
       "      <td>Rio</td>\n",
       "      <td>2020</td>\n",
       "      <td>4.2</td>\n",
       "      <td>Diesel</td>\n",
       "      <td>Manual</td>\n",
       "      <td>289944</td>\n",
       "      <td>3</td>\n",
       "      <td>5</td>\n",
       "      <td>8501</td>\n",
       "    </tr>\n",
       "    <tr>\n",
       "      <th>1</th>\n",
       "      <td>Chevrolet</td>\n",
       "      <td>Malibu</td>\n",
       "      <td>2012</td>\n",
       "      <td>2.0</td>\n",
       "      <td>Hybrid</td>\n",
       "      <td>Automatic</td>\n",
       "      <td>5356</td>\n",
       "      <td>2</td>\n",
       "      <td>3</td>\n",
       "      <td>12092</td>\n",
       "    </tr>\n",
       "    <tr>\n",
       "      <th>2</th>\n",
       "      <td>Mercedes</td>\n",
       "      <td>GLA</td>\n",
       "      <td>2020</td>\n",
       "      <td>4.2</td>\n",
       "      <td>Diesel</td>\n",
       "      <td>Automatic</td>\n",
       "      <td>231440</td>\n",
       "      <td>4</td>\n",
       "      <td>2</td>\n",
       "      <td>11171</td>\n",
       "    </tr>\n",
       "    <tr>\n",
       "      <th>3</th>\n",
       "      <td>Audi</td>\n",
       "      <td>Q5</td>\n",
       "      <td>2023</td>\n",
       "      <td>2.0</td>\n",
       "      <td>Electric</td>\n",
       "      <td>Manual</td>\n",
       "      <td>160971</td>\n",
       "      <td>2</td>\n",
       "      <td>1</td>\n",
       "      <td>11780</td>\n",
       "    </tr>\n",
       "    <tr>\n",
       "      <th>4</th>\n",
       "      <td>Volkswagen</td>\n",
       "      <td>Golf</td>\n",
       "      <td>2003</td>\n",
       "      <td>2.6</td>\n",
       "      <td>Hybrid</td>\n",
       "      <td>Semi-Automatic</td>\n",
       "      <td>286618</td>\n",
       "      <td>3</td>\n",
       "      <td>3</td>\n",
       "      <td>2867</td>\n",
       "    </tr>\n",
       "  </tbody>\n",
       "</table>\n",
       "</div>"
      ],
      "text/plain": [
       "        Brand   Model  Year  Engine_Size Fuel_Type    Transmission  Mileage  \\\n",
       "0         Kia     Rio  2020          4.2    Diesel          Manual   289944   \n",
       "1   Chevrolet  Malibu  2012          2.0    Hybrid       Automatic     5356   \n",
       "2    Mercedes     GLA  2020          4.2    Diesel       Automatic   231440   \n",
       "3        Audi      Q5  2023          2.0  Electric          Manual   160971   \n",
       "4  Volkswagen    Golf  2003          2.6    Hybrid  Semi-Automatic   286618   \n",
       "\n",
       "   Doors  Owner_Count  Price  \n",
       "0      3            5   8501  \n",
       "1      2            3  12092  \n",
       "2      4            2  11171  \n",
       "3      2            1  11780  \n",
       "4      3            3   2867  "
      ]
     },
     "execution_count": 79,
     "metadata": {},
     "output_type": "execute_result"
    }
   ],
   "source": [
    "df = pd.read_csv(\"car_price_dataset.csv\")\n",
    "df.head()"
   ]
  },
  {
   "cell_type": "code",
   "execution_count": 81,
   "id": "f894eeeb-1df9-46d5-91d8-b570ce75667d",
   "metadata": {},
   "outputs": [
    {
     "data": {
      "text/plain": [
       "8852.9644"
      ]
     },
     "execution_count": 81,
     "metadata": {},
     "output_type": "execute_result"
    }
   ],
   "source": [
    "# 1. Average price of all cars\n",
    "df[\"Price\"].mean()"
   ]
  },
  {
   "cell_type": "code",
   "execution_count": 83,
   "id": "0c022528-a14f-4f26-a86f-ee4ede7870af",
   "metadata": {},
   "outputs": [
    {
     "data": {
      "text/plain": [
       "('Chevrolet', 9015.683948155533)"
      ]
     },
     "execution_count": 83,
     "metadata": {},
     "output_type": "execute_result"
    }
   ],
   "source": [
    "# 2. Car brand with the highest average price\n",
    "df.groupby(\"Brand\")[\"Price\"].mean().idxmax(), df.groupby(\"Brand\")[\"Price\"].mean().max()"
   ]
  },
  {
   "cell_type": "code",
   "execution_count": 85,
   "id": "40282f7b-a6fa-4065-a0e0-1675f59e656a",
   "metadata": {},
   "outputs": [
    {
     "data": {
      "text/plain": [
       "'Electric'"
      ]
     },
     "execution_count": 85,
     "metadata": {},
     "output_type": "execute_result"
    }
   ],
   "source": [
    "# 3. Most common fuel type\n",
    "df[\"Fuel_Type\"].mode()[0]"
   ]
  },
  {
   "cell_type": "code",
   "execution_count": 87,
   "id": "093e55d4-5ee4-4b53-8be6-ccd7efcce7cf",
   "metadata": {},
   "outputs": [
    {
     "data": {
      "text/plain": [
       "3290"
      ]
     },
     "execution_count": 87,
     "metadata": {},
     "output_type": "execute_result"
    }
   ],
   "source": [
    "# 4. Number of cars with mileage greater than 200,000\n",
    "df[df[\"Mileage\"] > 200000].shape[0]"
   ]
  },
  {
   "cell_type": "code",
   "execution_count": 89,
   "id": "7bf6a2a2-6cc9-4349-8e87-050034b4dcf2",
   "metadata": {},
   "outputs": [
    {
     "data": {
      "text/plain": [
       "Transmission\n",
       "Manual            3372\n",
       "Automatic         3317\n",
       "Semi-Automatic    3311\n",
       "Name: count, dtype: int64"
      ]
     },
     "execution_count": 89,
     "metadata": {},
     "output_type": "execute_result"
    }
   ],
   "source": [
    "\n",
    "# 5. Distribution of cars by transmission type\n",
    "df[\"Transmission\"].value_counts()"
   ]
  },
  {
   "cell_type": "code",
   "execution_count": 91,
   "id": "7b5467e3-23a1-40a2-8580-08d85e19c623",
   "metadata": {},
   "outputs": [
    {
     "data": {
      "text/html": [
       "<div>\n",
       "<style scoped>\n",
       "    .dataframe tbody tr th:only-of-type {\n",
       "        vertical-align: middle;\n",
       "    }\n",
       "\n",
       "    .dataframe tbody tr th {\n",
       "        vertical-align: top;\n",
       "    }\n",
       "\n",
       "    .dataframe thead th {\n",
       "        text-align: right;\n",
       "    }\n",
       "</style>\n",
       "<table border=\"1\" class=\"dataframe\">\n",
       "  <thead>\n",
       "    <tr style=\"text-align: right;\">\n",
       "      <th></th>\n",
       "      <th>Brand</th>\n",
       "      <th>Model</th>\n",
       "      <th>Price</th>\n",
       "    </tr>\n",
       "  </thead>\n",
       "  <tbody>\n",
       "    <tr>\n",
       "      <th>1100</th>\n",
       "      <td>Toyota</td>\n",
       "      <td>Corolla</td>\n",
       "      <td>18301</td>\n",
       "    </tr>\n",
       "  </tbody>\n",
       "</table>\n",
       "</div>"
      ],
      "text/plain": [
       "       Brand    Model  Price\n",
       "1100  Toyota  Corolla  18301"
      ]
     },
     "execution_count": 91,
     "metadata": {},
     "output_type": "execute_result"
    }
   ],
   "source": [
    "# 6. Car model with the highest price\n",
    "df[df[\"Price\"] == df[\"Price\"].max()][[\"Brand\", \"Model\", \"Price\"]]"
   ]
  },
  {
   "cell_type": "code",
   "execution_count": 93,
   "id": "88642cb0-4156-4913-8bd5-efad553c8c20",
   "metadata": {},
   "outputs": [
    {
     "data": {
      "text/plain": [
       "Fuel_Type\n",
       "Diesel       8117.336385\n",
       "Electric    10032.220190\n",
       "Hybrid       9113.030167\n",
       "Petrol       8070.561826\n",
       "Name: Price, dtype: float64"
      ]
     },
     "execution_count": 93,
     "metadata": {},
     "output_type": "execute_result"
    }
   ],
   "source": [
    "# 7. Average price of cars by fuel type\n",
    "df.groupby(\"Fuel_Type\")[\"Price\"].mean()"
   ]
  },
  {
   "cell_type": "code",
   "execution_count": 95,
   "id": "972d117d-72e0-4e0f-b55e-63775674bd69",
   "metadata": {},
   "outputs": [
    {
     "data": {
      "text/plain": [
       "1651"
      ]
     },
     "execution_count": 95,
     "metadata": {},
     "output_type": "execute_result"
    }
   ],
   "source": [
    "# 8. Number of cars from the year 2020 or later\n",
    "df[df[\"Year\"] >= 2020].shape[0]"
   ]
  },
  {
   "cell_type": "code",
   "execution_count": 97,
   "id": "429ed8fa-e2a1-4d53-ac1d-d8f8ff5a2dac",
   "metadata": {},
   "outputs": [
    {
     "data": {
      "text/plain": [
       "Brand\n",
       "Audi          3.032948\n",
       "BMW           2.976877\n",
       "Chevrolet     2.993719\n",
       "Ford          3.044275\n",
       "Honda         2.925966\n",
       "Hyundai       2.936683\n",
       "Kia           3.053791\n",
       "Mercedes      3.069745\n",
       "Toyota        2.961443\n",
       "Volkswagen    3.011078\n",
       "Name: Engine_Size, dtype: float64"
      ]
     },
     "execution_count": 97,
     "metadata": {},
     "output_type": "execute_result"
    }
   ],
   "source": [
    "# 9. Average engine size for each brand\n",
    "df.groupby(\"Brand\")[\"Engine_Size\"].mean()"
   ]
  },
  {
   "cell_type": "code",
   "execution_count": 99,
   "id": "75e7fb01-663a-479f-ab6c-2997321e74eb",
   "metadata": {},
   "outputs": [
    {
     "data": {
      "text/html": [
       "<div>\n",
       "<style scoped>\n",
       "    .dataframe tbody tr th:only-of-type {\n",
       "        vertical-align: middle;\n",
       "    }\n",
       "\n",
       "    .dataframe tbody tr th {\n",
       "        vertical-align: top;\n",
       "    }\n",
       "\n",
       "    .dataframe thead th {\n",
       "        text-align: right;\n",
       "    }\n",
       "</style>\n",
       "<table border=\"1\" class=\"dataframe\">\n",
       "  <thead>\n",
       "    <tr style=\"text-align: right;\">\n",
       "      <th></th>\n",
       "      <th>Brand</th>\n",
       "      <th>Model</th>\n",
       "      <th>Mileage</th>\n",
       "    </tr>\n",
       "  </thead>\n",
       "  <tbody>\n",
       "    <tr>\n",
       "      <th>6824</th>\n",
       "      <td>Ford</td>\n",
       "      <td>Explorer</td>\n",
       "      <td>25</td>\n",
       "    </tr>\n",
       "  </tbody>\n",
       "</table>\n",
       "</div>"
      ],
      "text/plain": [
       "     Brand     Model  Mileage\n",
       "6824  Ford  Explorer       25"
      ]
     },
     "execution_count": 99,
     "metadata": {},
     "output_type": "execute_result"
    }
   ],
   "source": [
    "# 10. Car with the lowest mileage\n",
    "df[df[\"Mileage\"] == df[\"Mileage\"].min()][[\"Brand\", \"Model\", \"Mileage\"]]"
   ]
  },
  {
   "cell_type": "code",
   "execution_count": 101,
   "id": "3cc32b09-35a6-458b-b788-929e1f424a4a",
   "metadata": {},
   "outputs": [
    {
     "data": {
      "text/plain": [
       "-0.5512271827629015"
      ]
     },
     "execution_count": 101,
     "metadata": {},
     "output_type": "execute_result"
    }
   ],
   "source": [
    "# 11. Correlation between mileage and price\n",
    "df[\"Mileage\"].corr(df[\"Price\"])\n"
   ]
  },
  {
   "cell_type": "code",
   "execution_count": 58,
   "id": "317750b8-a46d-4e89-9c05-c6aae50eb18d",
   "metadata": {},
   "outputs": [
    {
     "data": {
      "text/plain": [
       "5944"
      ]
     },
     "execution_count": 58,
     "metadata": {},
     "output_type": "execute_result"
    }
   ],
   "source": [
    "# 12. Number of cars with more than 2 owners\n",
    "df[df[\"Owner_Count\"] > 2].shape[0]"
   ]
  },
  {
   "cell_type": "code",
   "execution_count": 60,
   "id": "fe77e437-69dc-401d-b5bb-07b1beeda7a6",
   "metadata": {},
   "outputs": [
    {
     "data": {
      "text/plain": [
       "Year\n",
       "2000     5393.735369\n",
       "2001     5904.064039\n",
       "2002     5956.751082\n",
       "2003     6225.834646\n",
       "2004     6330.725888\n",
       "2005     6943.037123\n",
       "2006     7249.961446\n",
       "2007     7632.513953\n",
       "2008     7728.418848\n",
       "2009     8083.917293\n",
       "2010     8503.419954\n",
       "2011     8622.855234\n",
       "2012     9011.446224\n",
       "2013     9114.208531\n",
       "2014     9587.455635\n",
       "2015     9896.774648\n",
       "2016    10177.600000\n",
       "2017    10343.757506\n",
       "2018    10939.192941\n",
       "2019    11132.722090\n",
       "2020    11495.284337\n",
       "2021    11637.813299\n",
       "2022    12067.690176\n",
       "2023    12169.470982\n",
       "Name: Price, dtype: float64"
      ]
     },
     "execution_count": 60,
     "metadata": {},
     "output_type": "execute_result"
    }
   ],
   "source": [
    "# 13. Average price of cars by year\n",
    "df.groupby(\"Year\")[\"Price\"].mean()"
   ]
  },
  {
   "cell_type": "code",
   "execution_count": 62,
   "id": "5daf5b67-ca4f-4b5e-a616-9e36562cccdf",
   "metadata": {},
   "outputs": [
    {
     "data": {
      "text/html": [
       "<div>\n",
       "<style scoped>\n",
       "    .dataframe tbody tr th:only-of-type {\n",
       "        vertical-align: middle;\n",
       "    }\n",
       "\n",
       "    .dataframe tbody tr th {\n",
       "        vertical-align: top;\n",
       "    }\n",
       "\n",
       "    .dataframe thead th {\n",
       "        text-align: right;\n",
       "    }\n",
       "</style>\n",
       "<table border=\"1\" class=\"dataframe\">\n",
       "  <thead>\n",
       "    <tr style=\"text-align: right;\">\n",
       "      <th></th>\n",
       "      <th>Brand</th>\n",
       "      <th>Model</th>\n",
       "      <th>Doors</th>\n",
       "    </tr>\n",
       "  </thead>\n",
       "  <tbody>\n",
       "    <tr>\n",
       "      <th>14</th>\n",
       "      <td>Volkswagen</td>\n",
       "      <td>Golf</td>\n",
       "      <td>5</td>\n",
       "    </tr>\n",
       "    <tr>\n",
       "      <th>16</th>\n",
       "      <td>Hyundai</td>\n",
       "      <td>Elantra</td>\n",
       "      <td>5</td>\n",
       "    </tr>\n",
       "    <tr>\n",
       "      <th>22</th>\n",
       "      <td>Toyota</td>\n",
       "      <td>RAV4</td>\n",
       "      <td>5</td>\n",
       "    </tr>\n",
       "    <tr>\n",
       "      <th>26</th>\n",
       "      <td>Audi</td>\n",
       "      <td>A3</td>\n",
       "      <td>5</td>\n",
       "    </tr>\n",
       "    <tr>\n",
       "      <th>27</th>\n",
       "      <td>BMW</td>\n",
       "      <td>3 Series</td>\n",
       "      <td>5</td>\n",
       "    </tr>\n",
       "    <tr>\n",
       "      <th>...</th>\n",
       "      <td>...</td>\n",
       "      <td>...</td>\n",
       "      <td>...</td>\n",
       "    </tr>\n",
       "    <tr>\n",
       "      <th>9978</th>\n",
       "      <td>Mercedes</td>\n",
       "      <td>E-Class</td>\n",
       "      <td>5</td>\n",
       "    </tr>\n",
       "    <tr>\n",
       "      <th>9979</th>\n",
       "      <td>Mercedes</td>\n",
       "      <td>C-Class</td>\n",
       "      <td>5</td>\n",
       "    </tr>\n",
       "    <tr>\n",
       "      <th>9983</th>\n",
       "      <td>Mercedes</td>\n",
       "      <td>E-Class</td>\n",
       "      <td>5</td>\n",
       "    </tr>\n",
       "    <tr>\n",
       "      <th>9991</th>\n",
       "      <td>Mercedes</td>\n",
       "      <td>E-Class</td>\n",
       "      <td>5</td>\n",
       "    </tr>\n",
       "    <tr>\n",
       "      <th>9997</th>\n",
       "      <td>BMW</td>\n",
       "      <td>3 Series</td>\n",
       "      <td>5</td>\n",
       "    </tr>\n",
       "  </tbody>\n",
       "</table>\n",
       "<p>2456 rows × 3 columns</p>\n",
       "</div>"
      ],
      "text/plain": [
       "           Brand     Model  Doors\n",
       "14    Volkswagen      Golf      5\n",
       "16       Hyundai   Elantra      5\n",
       "22        Toyota      RAV4      5\n",
       "26          Audi        A3      5\n",
       "27           BMW  3 Series      5\n",
       "...          ...       ...    ...\n",
       "9978    Mercedes   E-Class      5\n",
       "9979    Mercedes   C-Class      5\n",
       "9983    Mercedes   E-Class      5\n",
       "9991    Mercedes   E-Class      5\n",
       "9997         BMW  3 Series      5\n",
       "\n",
       "[2456 rows x 3 columns]"
      ]
     },
     "execution_count": 62,
     "metadata": {},
     "output_type": "execute_result"
    }
   ],
   "source": [
    "# 14. Car with the highest number of doors\n",
    "df[df[\"Doors\"] == df[\"Doors\"].max()][[\"Brand\", \"Model\", \"Doors\"]]"
   ]
  },
  {
   "cell_type": "code",
   "execution_count": 64,
   "id": "c6e33ec7-9983-48b8-85a9-2f9435dd51a1",
   "metadata": {},
   "outputs": [
    {
     "data": {
      "text/plain": [
       "Fuel_Type\n",
       "Diesel      150261.533041\n",
       "Electric    151059.307429\n",
       "Hybrid      145577.587036\n",
       "Petrol      149917.694606\n",
       "Name: Mileage, dtype: float64"
      ]
     },
     "execution_count": 64,
     "metadata": {},
     "output_type": "execute_result"
    }
   ],
   "source": [
    "# 15. Average mileage for each fuel type\n",
    "df.groupby(\"Fuel_Type\")[\"Mileage\"].mean()"
   ]
  },
  {
   "cell_type": "code",
   "execution_count": 66,
   "id": "30308bad-1203-4029-80ea-36d307f11ad5",
   "metadata": {},
   "outputs": [
    {
     "data": {
      "text/plain": [
       "970"
      ]
     },
     "execution_count": 66,
     "metadata": {},
     "output_type": "execute_result"
    }
   ],
   "source": [
    "# 16. Number of cars from the brand 'Toyota'\n",
    "df[df[\"Brand\"] == \"Toyota\"].shape[0]\n"
   ]
  },
  {
   "cell_type": "code",
   "execution_count": 68,
   "id": "2e8651c2-9b1b-4773-9713-2afef5ce5989",
   "metadata": {},
   "outputs": [
    {
     "data": {
      "text/plain": [
       "9938.252939403075"
      ]
     },
     "execution_count": 68,
     "metadata": {},
     "output_type": "execute_result"
    }
   ],
   "source": [
    "# 17. Average price of cars with automatic transmission\n",
    "df[df[\"Transmission\"] == \"Automatic\"][\"Price\"].mean()"
   ]
  },
  {
   "cell_type": "code",
   "execution_count": 70,
   "id": "267b4f41-b0d5-47c1-bc5e-103541b47f4c",
   "metadata": {},
   "outputs": [
    {
     "data": {
      "text/html": [
       "<div>\n",
       "<style scoped>\n",
       "    .dataframe tbody tr th:only-of-type {\n",
       "        vertical-align: middle;\n",
       "    }\n",
       "\n",
       "    .dataframe tbody tr th {\n",
       "        vertical-align: top;\n",
       "    }\n",
       "\n",
       "    .dataframe thead th {\n",
       "        text-align: right;\n",
       "    }\n",
       "</style>\n",
       "<table border=\"1\" class=\"dataframe\">\n",
       "  <thead>\n",
       "    <tr style=\"text-align: right;\">\n",
       "      <th></th>\n",
       "      <th>Brand</th>\n",
       "      <th>Model</th>\n",
       "      <th>Owner_Count</th>\n",
       "    </tr>\n",
       "  </thead>\n",
       "  <tbody>\n",
       "    <tr>\n",
       "      <th>0</th>\n",
       "      <td>Kia</td>\n",
       "      <td>Rio</td>\n",
       "      <td>5</td>\n",
       "    </tr>\n",
       "    <tr>\n",
       "      <th>9</th>\n",
       "      <td>Toyota</td>\n",
       "      <td>RAV4</td>\n",
       "      <td>5</td>\n",
       "    </tr>\n",
       "    <tr>\n",
       "      <th>30</th>\n",
       "      <td>Hyundai</td>\n",
       "      <td>Tucson</td>\n",
       "      <td>5</td>\n",
       "    </tr>\n",
       "    <tr>\n",
       "      <th>33</th>\n",
       "      <td>Mercedes</td>\n",
       "      <td>GLA</td>\n",
       "      <td>5</td>\n",
       "    </tr>\n",
       "    <tr>\n",
       "      <th>35</th>\n",
       "      <td>Kia</td>\n",
       "      <td>Optima</td>\n",
       "      <td>5</td>\n",
       "    </tr>\n",
       "    <tr>\n",
       "      <th>...</th>\n",
       "      <td>...</td>\n",
       "      <td>...</td>\n",
       "      <td>...</td>\n",
       "    </tr>\n",
       "    <tr>\n",
       "      <th>9952</th>\n",
       "      <td>Mercedes</td>\n",
       "      <td>GLA</td>\n",
       "      <td>5</td>\n",
       "    </tr>\n",
       "    <tr>\n",
       "      <th>9955</th>\n",
       "      <td>BMW</td>\n",
       "      <td>3 Series</td>\n",
       "      <td>5</td>\n",
       "    </tr>\n",
       "    <tr>\n",
       "      <th>9964</th>\n",
       "      <td>Hyundai</td>\n",
       "      <td>Tucson</td>\n",
       "      <td>5</td>\n",
       "    </tr>\n",
       "    <tr>\n",
       "      <th>9969</th>\n",
       "      <td>Chevrolet</td>\n",
       "      <td>Equinox</td>\n",
       "      <td>5</td>\n",
       "    </tr>\n",
       "    <tr>\n",
       "      <th>9992</th>\n",
       "      <td>BMW</td>\n",
       "      <td>5 Series</td>\n",
       "      <td>5</td>\n",
       "    </tr>\n",
       "  </tbody>\n",
       "</table>\n",
       "<p>2036 rows × 3 columns</p>\n",
       "</div>"
      ],
      "text/plain": [
       "          Brand     Model  Owner_Count\n",
       "0           Kia       Rio            5\n",
       "9        Toyota      RAV4            5\n",
       "30      Hyundai    Tucson            5\n",
       "33     Mercedes       GLA            5\n",
       "35          Kia    Optima            5\n",
       "...         ...       ...          ...\n",
       "9952   Mercedes       GLA            5\n",
       "9955        BMW  3 Series            5\n",
       "9964    Hyundai    Tucson            5\n",
       "9969  Chevrolet   Equinox            5\n",
       "9992        BMW  5 Series            5\n",
       "\n",
       "[2036 rows x 3 columns]"
      ]
     },
     "execution_count": 70,
     "metadata": {},
     "output_type": "execute_result"
    }
   ],
   "source": [
    "# 18. Car with the highest owner count\n",
    "df[df[\"Owner_Count\"] == df[\"Owner_Count\"].max()][[\"Brand\", \"Model\", \"Owner_Count\"]]"
   ]
  },
  {
   "cell_type": "code",
   "execution_count": 72,
   "id": "7df6d2ec-e63b-46aa-9ab2-a5a1cf882ca6",
   "metadata": {},
   "outputs": [
    {
     "data": {
      "text/plain": [
       "3.011863057324841"
      ]
     },
     "execution_count": 72,
     "metadata": {},
     "output_type": "execute_result"
    }
   ],
   "source": [
    "# 19. Average engine size for diesel fuel type\n",
    "df[df[\"Fuel_Type\"] == \"Diesel\"][\"Engine_Size\"].mean()"
   ]
  },
  {
   "cell_type": "code",
   "execution_count": 74,
   "id": "29e5aa67-7b8c-4703-9b8d-313b2a89145c",
   "metadata": {},
   "outputs": [
    {
     "data": {
      "text/plain": [
       "3651"
      ]
     },
     "execution_count": 74,
     "metadata": {},
     "output_type": "execute_result"
    }
   ],
   "source": [
    "# 20. Number of cars with a price greater than $10,000\n",
    "df[df[\"Price\"] > 10000].shape[0]"
   ]
  },
  {
   "cell_type": "code",
   "execution_count": null,
   "id": "fe1867b0-dd89-431c-a6b2-f64b596e48a7",
   "metadata": {},
   "outputs": [],
   "source": []
  },
  {
   "cell_type": "code",
   "execution_count": null,
   "id": "140103e4-ae46-45ca-bb22-372bf57b4dbe",
   "metadata": {},
   "outputs": [],
   "source": []
  }
 ],
 "metadata": {
  "kernelspec": {
   "display_name": "Python 3 (ipykernel)",
   "language": "python",
   "name": "python3"
  },
  "language_info": {
   "codemirror_mode": {
    "name": "ipython",
    "version": 3
   },
   "file_extension": ".py",
   "mimetype": "text/x-python",
   "name": "python",
   "nbconvert_exporter": "python",
   "pygments_lexer": "ipython3",
   "version": "3.11.7"
  }
 },
 "nbformat": 4,
 "nbformat_minor": 5
}
