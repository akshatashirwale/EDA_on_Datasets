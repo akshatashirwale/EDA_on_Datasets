{
 "cells": [
  {
   "cell_type": "markdown",
   "id": "0de45f09-e999-45d6-93d5-a7190bd3b69b",
   "metadata": {},
   "source": [
    "# EDA on Movies dataset"
   ]
  },
  {
   "cell_type": "code",
   "execution_count": 2,
   "id": "068d4271-1923-4fda-96d5-cc9ca2d2f05a",
   "metadata": {},
   "outputs": [],
   "source": [
    "import pandas as pd\n",
    "import numpy as np"
   ]
  },
  {
   "cell_type": "code",
   "execution_count": 6,
   "id": "de1b5eff-98ff-4fd9-9163-c74f7697ba8b",
   "metadata": {},
   "outputs": [
    {
     "data": {
      "text/html": [
       "<div>\n",
       "<style scoped>\n",
       "    .dataframe tbody tr th:only-of-type {\n",
       "        vertical-align: middle;\n",
       "    }\n",
       "\n",
       "    .dataframe tbody tr th {\n",
       "        vertical-align: top;\n",
       "    }\n",
       "\n",
       "    .dataframe thead th {\n",
       "        text-align: right;\n",
       "    }\n",
       "</style>\n",
       "<table border=\"1\" class=\"dataframe\">\n",
       "  <thead>\n",
       "    <tr style=\"text-align: right;\">\n",
       "      <th></th>\n",
       "      <th>title</th>\n",
       "      <th>type</th>\n",
       "      <th>release_year</th>\n",
       "      <th>age_certification</th>\n",
       "      <th>runtime</th>\n",
       "      <th>genres</th>\n",
       "      <th>production_countries</th>\n",
       "      <th>seasons</th>\n",
       "      <th>imdb_id</th>\n",
       "      <th>imdb_score</th>\n",
       "      <th>imdb_votes</th>\n",
       "    </tr>\n",
       "  </thead>\n",
       "  <tbody>\n",
       "    <tr>\n",
       "      <th>0</th>\n",
       "      <td>Five Came Back: The Reference Films</td>\n",
       "      <td>SHOW</td>\n",
       "      <td>1945</td>\n",
       "      <td>TV-MA</td>\n",
       "      <td>48</td>\n",
       "      <td>['documentation']</td>\n",
       "      <td>['US']</td>\n",
       "      <td>1.0</td>\n",
       "      <td>NaN</td>\n",
       "      <td>NaN</td>\n",
       "      <td>NaN</td>\n",
       "    </tr>\n",
       "    <tr>\n",
       "      <th>1</th>\n",
       "      <td>Taxi Driver</td>\n",
       "      <td>MOVIE</td>\n",
       "      <td>1976</td>\n",
       "      <td>R</td>\n",
       "      <td>113</td>\n",
       "      <td>['crime', 'drama']</td>\n",
       "      <td>['US']</td>\n",
       "      <td>NaN</td>\n",
       "      <td>tt0075314</td>\n",
       "      <td>8.3</td>\n",
       "      <td>795222.0</td>\n",
       "    </tr>\n",
       "    <tr>\n",
       "      <th>2</th>\n",
       "      <td>Monty Python and the Holy Grail</td>\n",
       "      <td>MOVIE</td>\n",
       "      <td>1975</td>\n",
       "      <td>PG</td>\n",
       "      <td>91</td>\n",
       "      <td>['comedy', 'fantasy']</td>\n",
       "      <td>['GB']</td>\n",
       "      <td>NaN</td>\n",
       "      <td>tt0071853</td>\n",
       "      <td>8.2</td>\n",
       "      <td>530877.0</td>\n",
       "    </tr>\n",
       "    <tr>\n",
       "      <th>3</th>\n",
       "      <td>Life of Brian</td>\n",
       "      <td>MOVIE</td>\n",
       "      <td>1979</td>\n",
       "      <td>R</td>\n",
       "      <td>94</td>\n",
       "      <td>['comedy']</td>\n",
       "      <td>['GB']</td>\n",
       "      <td>NaN</td>\n",
       "      <td>tt0079470</td>\n",
       "      <td>8.0</td>\n",
       "      <td>392419.0</td>\n",
       "    </tr>\n",
       "    <tr>\n",
       "      <th>4</th>\n",
       "      <td>The Exorcist</td>\n",
       "      <td>MOVIE</td>\n",
       "      <td>1973</td>\n",
       "      <td>R</td>\n",
       "      <td>133</td>\n",
       "      <td>['horror']</td>\n",
       "      <td>['US']</td>\n",
       "      <td>NaN</td>\n",
       "      <td>tt0070047</td>\n",
       "      <td>8.1</td>\n",
       "      <td>391942.0</td>\n",
       "    </tr>\n",
       "  </tbody>\n",
       "</table>\n",
       "</div>"
      ],
      "text/plain": [
       "                                 title   type  release_year age_certification  \\\n",
       "0  Five Came Back: The Reference Films   SHOW          1945             TV-MA   \n",
       "1                          Taxi Driver  MOVIE          1976                 R   \n",
       "2      Monty Python and the Holy Grail  MOVIE          1975                PG   \n",
       "3                        Life of Brian  MOVIE          1979                 R   \n",
       "4                         The Exorcist  MOVIE          1973                 R   \n",
       "\n",
       "   runtime                 genres production_countries  seasons    imdb_id  \\\n",
       "0       48      ['documentation']               ['US']      1.0        NaN   \n",
       "1      113     ['crime', 'drama']               ['US']      NaN  tt0075314   \n",
       "2       91  ['comedy', 'fantasy']               ['GB']      NaN  tt0071853   \n",
       "3       94             ['comedy']               ['GB']      NaN  tt0079470   \n",
       "4      133             ['horror']               ['US']      NaN  tt0070047   \n",
       "\n",
       "   imdb_score  imdb_votes  \n",
       "0         NaN         NaN  \n",
       "1         8.3    795222.0  \n",
       "2         8.2    530877.0  \n",
       "3         8.0    392419.0  \n",
       "4         8.1    391942.0  "
      ]
     },
     "execution_count": 6,
     "metadata": {},
     "output_type": "execute_result"
    }
   ],
   "source": [
    "df = pd.read_csv(\"movies.csv\")\n",
    "df.head()"
   ]
  },
  {
   "cell_type": "code",
   "execution_count": 28,
   "id": "bc5e69f3-9db6-4cf4-ac2a-868d563634c7",
   "metadata": {},
   "outputs": [
    {
     "data": {
      "text/plain": [
       "(5806, 11)"
      ]
     },
     "execution_count": 28,
     "metadata": {},
     "output_type": "execute_result"
    }
   ],
   "source": [
    "df.shape"
   ]
  },
  {
   "cell_type": "code",
   "execution_count": 64,
   "id": "0ddf3c8b-e497-4786-9350-009120e78f93",
   "metadata": {},
   "outputs": [
    {
     "data": {
      "text/plain": [
       "5806"
      ]
     },
     "execution_count": 64,
     "metadata": {},
     "output_type": "execute_result"
    }
   ],
   "source": [
    "# How many total movies and shows are there in the dataset?\n",
    "\n",
    "df[(df[\"type\"] == \"MOVIE\") | (df[\"type\"] == \"SHOW\")].shape[0]  "
   ]
  },
  {
   "cell_type": "code",
   "execution_count": 62,
   "id": "64aec262-5722-467a-a443-dcce9943396e",
   "metadata": {},
   "outputs": [
    {
     "data": {
      "text/plain": [
       "min    1945\n",
       "max    2022\n",
       "Name: release_year, dtype: int64"
      ]
     },
     "execution_count": 62,
     "metadata": {},
     "output_type": "execute_result"
    }
   ],
   "source": [
    "# What is the earliest and latest release year in the dataset?\n",
    "\n",
    "df[\"release_year\"].agg([\"min\", \"max\"])"
   ]
  },
  {
   "cell_type": "code",
   "execution_count": 60,
   "id": "873c3d31-583b-4f3a-9f60-8eb9f594b752",
   "metadata": {},
   "outputs": [
    {
     "data": {
      "text/plain": [
       "736"
      ]
     },
     "execution_count": 60,
     "metadata": {},
     "output_type": "execute_result"
    }
   ],
   "source": [
    "# How many movies have a runtime of more than 120 minutes?\n",
    "\n",
    "df[(df[\"type\"] == \"MOVIE\") & (df[\"runtime\"] > 120)].shape[0]"
   ]
  },
  {
   "cell_type": "code",
   "execution_count": 58,
   "id": "f290a374-802f-47d0-9c3e-a024c7f7aa95",
   "metadata": {},
   "outputs": [
    {
     "data": {
      "text/plain": [
       "305"
      ]
     },
     "execution_count": 58,
     "metadata": {},
     "output_type": "execute_result"
    }
   ],
   "source": [
    "# How many shows have more than 3 seasons?\n",
    "\n",
    "df[(df[\"type\"] == \"SHOW\") & (df[\"seasons\"] > 3)].shape[0]"
   ]
  },
  {
   "cell_type": "code",
   "execution_count": 68,
   "id": "78061bee-abc5-4b79-8a31-33bd1ca39d3e",
   "metadata": {},
   "outputs": [
    {
     "data": {
      "text/plain": [
       "array(['TV-MA', 'R', 'PG', 'TV-14', 'G', 'PG-13', 'TV-PG', 'TV-Y', 'TV-G',\n",
       "       'TV-Y7', 'NC-17'], dtype=object)"
      ]
     },
     "execution_count": 68,
     "metadata": {},
     "output_type": "execute_result"
    }
   ],
   "source": [
    "# What are the different age certifications available in the dataset?\n",
    "\n",
    "df[\"age_certification\"].dropna().unique()"
   ]
  },
  {
   "cell_type": "code",
   "execution_count": 75,
   "id": "1e253954-e1f6-4246-990b-51c5229313ae",
   "metadata": {},
   "outputs": [
    {
     "data": {
      "text/plain": [
       "1543"
      ]
     },
     "execution_count": 75,
     "metadata": {},
     "output_type": "execute_result"
    }
   ],
   "source": [
    "# Number of movies in the comedy genre\n",
    "df[(df[\"type\"] == \"MOVIE\") & (df[\"genres\"].str.contains(\"Comedy\", case=False, na=False))].shape[0]  "
   ]
  },
  {
   "cell_type": "code",
   "execution_count": 91,
   "id": "c55edce9-bd0e-4e91-ac55-bca3fd3f03a8",
   "metadata": {},
   "outputs": [
    {
     "data": {
      "text/plain": [
       "1037"
      ]
     },
     "execution_count": 91,
     "metadata": {},
     "output_type": "execute_result"
    }
   ],
   "source": [
    "# Number of shows in the drama genre\n",
    "df[(df[\"type\"] == \"SHOW\") & (df[\"genres\"].str.contains(\"Drama\", case=False, na=False))].shape[0]  "
   ]
  },
  {
   "cell_type": "code",
   "execution_count": 89,
   "id": "666e5308-af93-432c-9c84-24d2a7a1029d",
   "metadata": {},
   "outputs": [
    {
     "data": {
      "text/plain": [
       "\"['comedy']\""
      ]
     },
     "execution_count": 89,
     "metadata": {},
     "output_type": "execute_result"
    }
   ],
   "source": [
    "# Most frequently appearing genre\n",
    "df[\"genres\"].mode()[0]  "
   ]
  },
  {
   "cell_type": "code",
   "execution_count": 87,
   "id": "96cb8e15-8827-4e3b-bcf0-5829e010cde9",
   "metadata": {},
   "outputs": [
    {
     "data": {
      "text/plain": [
       "2684"
      ]
     },
     "execution_count": 87,
     "metadata": {},
     "output_type": "execute_result"
    }
   ],
   "source": [
    "# Number of movies with multiple genres\n",
    "df[(df[\"type\"] == \"MOVIE\") & (df[\"genres\"].str.contains(\",\"))].shape[0]  "
   ]
  },
  {
   "cell_type": "code",
   "execution_count": 85,
   "id": "09a789e0-d731-4450-acf2-09ff987f6eda",
   "metadata": {},
   "outputs": [
    {
     "data": {
      "text/plain": [
       "534"
      ]
     },
     "execution_count": 85,
     "metadata": {},
     "output_type": "execute_result"
    }
   ],
   "source": [
    "# Number of shows with only one genre\n",
    "df[(df[\"type\"] == \"SHOW\") & (~df[\"genres\"].str.contains(\",\", na=False))].shape[0]  "
   ]
  },
  {
   "cell_type": "code",
   "execution_count": 95,
   "id": "e0b92d1d-f5e2-421f-9134-a31e6fe04e9f",
   "metadata": {},
   "outputs": [
    {
     "data": {
      "text/plain": [
       "6.266979747578515"
      ]
     },
     "execution_count": 95,
     "metadata": {},
     "output_type": "execute_result"
    }
   ],
   "source": [
    "# Average IMDb Rating of Movies\n",
    "df[df[\"type\"] == \"MOVIE\"][\"imdb_score\"].mean()"
   ]
  },
  {
   "cell_type": "code",
   "execution_count": 97,
   "id": "9ac91c39-cf1a-412c-9a66-b839a1d5a679",
   "metadata": {},
   "outputs": [
    {
     "data": {
      "text/html": [
       "<div>\n",
       "<style scoped>\n",
       "    .dataframe tbody tr th:only-of-type {\n",
       "        vertical-align: middle;\n",
       "    }\n",
       "\n",
       "    .dataframe tbody tr th {\n",
       "        vertical-align: top;\n",
       "    }\n",
       "\n",
       "    .dataframe thead th {\n",
       "        text-align: right;\n",
       "    }\n",
       "</style>\n",
       "<table border=\"1\" class=\"dataframe\">\n",
       "  <thead>\n",
       "    <tr style=\"text-align: right;\">\n",
       "      <th></th>\n",
       "      <th>title</th>\n",
       "      <th>imdb_score</th>\n",
       "    </tr>\n",
       "  </thead>\n",
       "  <tbody>\n",
       "    <tr>\n",
       "      <th>656</th>\n",
       "      <td>Khawatir</td>\n",
       "      <td>9.6</td>\n",
       "    </tr>\n",
       "    <tr>\n",
       "      <th>2927</th>\n",
       "      <td>#ABtalks</td>\n",
       "      <td>9.6</td>\n",
       "    </tr>\n",
       "  </tbody>\n",
       "</table>\n",
       "</div>"
      ],
      "text/plain": [
       "         title  imdb_score\n",
       "656   Khawatir         9.6\n",
       "2927  #ABtalks         9.6"
      ]
     },
     "execution_count": 97,
     "metadata": {},
     "output_type": "execute_result"
    }
   ],
   "source": [
    "# Highest Rated Movie/Show\n",
    "df[df[\"imdb_score\"] == df[\"imdb_score\"].max()][[\"title\", \"imdb_score\"]]"
   ]
  },
  {
   "cell_type": "code",
   "execution_count": 99,
   "id": "969c3ed8-cce6-44b9-9a9d-3eab92775f40",
   "metadata": {},
   "outputs": [
    {
     "data": {
      "text/html": [
       "<div>\n",
       "<style scoped>\n",
       "    .dataframe tbody tr th:only-of-type {\n",
       "        vertical-align: middle;\n",
       "    }\n",
       "\n",
       "    .dataframe tbody tr th {\n",
       "        vertical-align: top;\n",
       "    }\n",
       "\n",
       "    .dataframe thead th {\n",
       "        text-align: right;\n",
       "    }\n",
       "</style>\n",
       "<table border=\"1\" class=\"dataframe\">\n",
       "  <thead>\n",
       "    <tr style=\"text-align: right;\">\n",
       "      <th></th>\n",
       "      <th>title</th>\n",
       "      <th>imdb_votes</th>\n",
       "    </tr>\n",
       "  </thead>\n",
       "  <tbody>\n",
       "    <tr>\n",
       "      <th>260</th>\n",
       "      <td>Inception</td>\n",
       "      <td>2268288.0</td>\n",
       "    </tr>\n",
       "  </tbody>\n",
       "</table>\n",
       "</div>"
      ],
      "text/plain": [
       "         title  imdb_votes\n",
       "260  Inception   2268288.0"
      ]
     },
     "execution_count": 99,
     "metadata": {},
     "output_type": "execute_result"
    }
   ],
   "source": [
    "# Movie with Most IMDb Votes\n",
    "df[df[\"imdb_votes\"] == df[\"imdb_votes\"].max()][[\"title\", \"imdb_votes\"]]"
   ]
  },
  {
   "cell_type": "code",
   "execution_count": 101,
   "id": "91e3a067-e476-4039-8deb-3cc62ebbaedb",
   "metadata": {},
   "outputs": [
    {
     "data": {
      "text/plain": [
       "101"
      ]
     },
     "execution_count": 101,
     "metadata": {},
     "output_type": "execute_result"
    }
   ],
   "source": [
    "# Movies & Shows with IMDb > 8.5\n",
    "df[df[\"imdb_score\"] > 8.5].shape[0]"
   ]
  },
  {
   "cell_type": "code",
   "execution_count": 103,
   "id": "d55b93ec-91a1-453a-87da-3214c250f1b2",
   "metadata": {},
   "outputs": [
    {
     "data": {
      "text/plain": [
       "6.2"
      ]
     },
     "execution_count": 103,
     "metadata": {},
     "output_type": "execute_result"
    }
   ],
   "source": [
    "# Most Common IMDb Rating for Movies\n",
    "df[df[\"type\"] == \"MOVIE\"][\"imdb_score\"].mode()[0]"
   ]
  },
  {
   "cell_type": "code",
   "execution_count": 105,
   "id": "1ef519b3-6ae6-43b9-9dce-845b0672f43d",
   "metadata": {},
   "outputs": [
    {
     "data": {
      "text/plain": [
       "2327"
      ]
     },
     "execution_count": 105,
     "metadata": {},
     "output_type": "execute_result"
    }
   ],
   "source": [
    "# Movies & Shows Produced in US\n",
    "df[df[\"production_countries\"].str.contains(\"US\", na=False)].shape[0]"
   ]
  },
  {
   "cell_type": "code",
   "execution_count": 107,
   "id": "01d47a0b-56e4-4040-86e5-3bfcae51e0e7",
   "metadata": {},
   "outputs": [
    {
     "data": {
      "text/plain": [
       "\"['US']\""
      ]
     },
     "execution_count": 107,
     "metadata": {},
     "output_type": "execute_result"
    }
   ],
   "source": [
    "# Country Producing Most Movies/Shows\n",
    "df[\"production_countries\"].mode()[0]"
   ]
  },
  {
   "cell_type": "code",
   "execution_count": 109,
   "id": "0c2392a1-d1be-41f5-8416-f6e7e3c6cd46",
   "metadata": {},
   "outputs": [
    {
     "data": {
      "text/plain": [
       "5806"
      ]
     },
     "execution_count": 109,
     "metadata": {},
     "output_type": "execute_result"
    }
   ],
   "source": [
    "# Non-English Movies & Shows Count\n",
    "df[df[\"production_countries\"] != \"US\"].shape[0]"
   ]
  },
  {
   "cell_type": "code",
   "execution_count": 111,
   "id": "25270cb6-9b98-4def-9540-2fb7db7e1c3f",
   "metadata": {},
   "outputs": [
    {
     "data": {
      "text/plain": [
       "\"['CU', 'US']\""
      ]
     },
     "execution_count": 111,
     "metadata": {},
     "output_type": "execute_result"
    }
   ],
   "source": [
    "# Country with Highest Average IMDb Rating\n",
    "df.groupby(\"production_countries\")[\"imdb_score\"].mean().idxmax()"
   ]
  },
  {
   "cell_type": "code",
   "execution_count": 113,
   "id": "ccfe22c8-a044-420a-8701-b7d8e13e7ef5",
   "metadata": {},
   "outputs": [
    {
     "data": {
      "text/plain": [
       "107.0"
      ]
     },
     "execution_count": 113,
     "metadata": {},
     "output_type": "execute_result"
    }
   ],
   "source": [
    "# Movie Release Trend (if >0 increasing, else decreasing)\n",
    "df[df[\"type\"] == \"MOVIE\"].groupby(\"release_year\").size().diff().sum()"
   ]
  },
  {
   "cell_type": "code",
   "execution_count": null,
   "id": "7db92533-d56c-4d6c-8658-08ca4d3e11eb",
   "metadata": {},
   "outputs": [],
   "source": []
  }
 ],
 "metadata": {
  "kernelspec": {
   "display_name": "Python 3 (ipykernel)",
   "language": "python",
   "name": "python3"
  },
  "language_info": {
   "codemirror_mode": {
    "name": "ipython",
    "version": 3
   },
   "file_extension": ".py",
   "mimetype": "text/x-python",
   "name": "python",
   "nbconvert_exporter": "python",
   "pygments_lexer": "ipython3",
   "version": "3.11.7"
  }
 },
 "nbformat": 4,
 "nbformat_minor": 5
}
